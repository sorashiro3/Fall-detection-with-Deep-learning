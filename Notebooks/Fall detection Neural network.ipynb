{
 "cells": [
  {
   "cell_type": "code",
   "execution_count": 2,
   "id": "b7606c99",
   "metadata": {},
   "outputs": [],
   "source": [
    "import os\n",
    "import pandas as pd\n",
    "import numpy as py \n",
    "\n",
    "import warnings\n",
    "warnings.filterwarnings(\"ignore\")"
   ]
  },
  {
   "cell_type": "code",
   "execution_count": 4,
   "id": "159d839f",
   "metadata": {},
   "outputs": [],
   "source": [
    "import glob \n",
    "\n",
    "file_paths = glob.glob('label_data\\*.xlsx')"
   ]
  },
  {
   "cell_type": "code",
   "execution_count": 8,
   "id": "8e78cb29",
   "metadata": {},
   "outputs": [],
   "source": [
    "df = []\n",
    "\n",
    "for i in range(6,10) :\n",
    "    file_paths2 = glob.glob(f'sensor_data\\SA0{i}\\*.csv')\n",
    "    \n",
    "    for file in file_paths2 :\n",
    "        tmp = pd.read_csv(file)\n",
    "        df.append(tmp)\n",
    "\n",
    "for i in range(10,39) :\n",
    "    file_paths2 = glob.glob(f'sensor_data\\SA{i}\\*.csv')\n",
    "    \n",
    "    for file in file_paths2 :\n",
    "        tmp = pd.read_csv(file)\n",
    "        df.append(tmp)\n",
    "    \n",
    "    \n",
    "super_merged = pd.concat(df, ignore_index = True)\n",
    "\n"
   ]
  },
  {
   "cell_type": "code",
   "execution_count": 18,
   "id": "6f07e1c0",
   "metadata": {
    "scrolled": true
   },
   "outputs": [
    {
     "name": "stdout",
     "output_type": "stream",
     "text": [
      "<class 'pandas.core.frame.DataFrame'>\n",
      "RangeIndex: 3995100 entries, 0 to 3995099\n",
      "Data columns (total 11 columns):\n",
      " #   Column        Dtype  \n",
      "---  ------        -----  \n",
      " 0   TimeStamp(s)  float64\n",
      " 1   FrameCounter  int64  \n",
      " 2   AccX          float64\n",
      " 3   AccY          float64\n",
      " 4   AccZ          float64\n",
      " 5   GyrX          float64\n",
      " 6   GyrY          float64\n",
      " 7   GyrZ          float64\n",
      " 8   EulerX        float64\n",
      " 9   EulerY        float64\n",
      " 10  EulerZ        float64\n",
      "dtypes: float64(10), int64(1)\n",
      "memory usage: 335.3 MB\n",
      "None\n"
     ]
    }
   ],
   "source": [
    "print(super_merged.info())"
   ]
  },
  {
   "cell_type": "code",
   "execution_count": 22,
   "id": "545622b2",
   "metadata": {},
   "outputs": [],
   "source": [
    "super_merged.to_csv('super_merged.csv', index=False)"
   ]
  },
  {
   "cell_type": "code",
   "execution_count": 11,
   "id": "950f91f2",
   "metadata": {},
   "outputs": [
    {
     "name": "stdout",
     "output_type": "stream",
     "text": [
      "<class 'pandas.core.frame.DataFrame'>\n",
      "RangeIndex: 1997550 entries, 0 to 1997549\n",
      "Data columns (total 11 columns):\n",
      " #   Column        Dtype  \n",
      "---  ------        -----  \n",
      " 0   TimeStamp(s)  float64\n",
      " 1   FrameCounter  int64  \n",
      " 2   AccX          float64\n",
      " 3   AccY          float64\n",
      " 4   AccZ          float64\n",
      " 5   GyrX          float64\n",
      " 6   GyrY          float64\n",
      " 7   GyrZ          float64\n",
      " 8   EulerX        float64\n",
      " 9   EulerY        float64\n",
      " 10  EulerZ        float64\n",
      "dtypes: float64(10), int64(1)\n",
      "memory usage: 167.6 MB\n"
     ]
    }
   ],
   "source": [
    "df = pd.read_csv('super_merged.csv')\n",
    "\n",
    "df = df.iloc[:len(df) // 2]\n",
    "\n",
    "df.to_csv('super_merged_half.csv', index=False)\n",
    "\n",
    "df.info()\n"
   ]
  },
  {
   "cell_type": "code",
   "execution_count": 3,
   "id": "2df8d098",
   "metadata": {},
   "outputs": [],
   "source": [
    "df = pd.read_csv('merged_half.csv')\n",
    "\n",
    "df = df.iloc[1::2]\n",
    "\n",
    "df.to_csv('merged_quarter.csv', index=False)"
   ]
  },
  {
   "cell_type": "code",
   "execution_count": 4,
   "id": "eac7f446",
   "metadata": {},
   "outputs": [
    {
     "name": "stdout",
     "output_type": "stream",
     "text": [
      "<class 'pandas.core.frame.DataFrame'>\n",
      "RangeIndex: 567423 entries, 1 to 1134845\n",
      "Data columns (total 7 columns):\n",
      " #   Column  Non-Null Count   Dtype  \n",
      "---  ------  --------------   -----  \n",
      " 0   AccX    567423 non-null  float64\n",
      " 1   AccY    567423 non-null  float64\n",
      " 2   AccZ    567423 non-null  float64\n",
      " 3   GyrX    567423 non-null  float64\n",
      " 4   GyrY    567423 non-null  float64\n",
      " 5   GyrZ    567423 non-null  float64\n",
      " 6   Fall    567423 non-null  int64  \n",
      "dtypes: float64(6), int64(1)\n",
      "memory usage: 30.3 MB\n"
     ]
    }
   ],
   "source": [
    "df.info()"
   ]
  },
  {
   "cell_type": "code",
   "execution_count": 5,
   "id": "bc213bc8",
   "metadata": {},
   "outputs": [],
   "source": [
    "df = pd.read_csv('merged_Fall_half.csv')\n",
    "\n",
    "df = df.iloc[1::2]\n",
    "\n",
    "df.to_csv('merged_Fall_quarter.csv', index=False)"
   ]
  },
  {
   "cell_type": "code",
   "execution_count": 6,
   "id": "720ae2a5",
   "metadata": {},
   "outputs": [
    {
     "name": "stdout",
     "output_type": "stream",
     "text": [
      "<class 'pandas.core.frame.DataFrame'>\n",
      "RangeIndex: 431351 entries, 1 to 862701\n",
      "Data columns (total 7 columns):\n",
      " #   Column  Non-Null Count   Dtype  \n",
      "---  ------  --------------   -----  \n",
      " 0   AccX    431351 non-null  float64\n",
      " 1   AccY    431351 non-null  float64\n",
      " 2   AccZ    431351 non-null  float64\n",
      " 3   GyrX    431351 non-null  float64\n",
      " 4   GyrY    431351 non-null  float64\n",
      " 5   GyrZ    431351 non-null  float64\n",
      " 6   Fall    431351 non-null  int64  \n",
      "dtypes: float64(6), int64(1)\n",
      "memory usage: 23.0 MB\n"
     ]
    }
   ],
   "source": [
    "df.info()"
   ]
  },
  {
   "cell_type": "code",
   "execution_count": 7,
   "id": "7e109c05",
   "metadata": {},
   "outputs": [],
   "source": [
    " df = pd.read_csv('merged_quarter.csv')\n",
    "\n",
    "df = df.iloc[1::2]\n",
    "\n",
    "df.to_csv('merged_by8.csv', index=False)"
   ]
  },
  {
   "cell_type": "code",
   "execution_count": 8,
   "id": "4f4881ef",
   "metadata": {},
   "outputs": [
    {
     "name": "stdout",
     "output_type": "stream",
     "text": [
      "<class 'pandas.core.frame.DataFrame'>\n",
      "RangeIndex: 283711 entries, 1 to 567421\n",
      "Data columns (total 7 columns):\n",
      " #   Column  Non-Null Count   Dtype  \n",
      "---  ------  --------------   -----  \n",
      " 0   AccX    283711 non-null  float64\n",
      " 1   AccY    283711 non-null  float64\n",
      " 2   AccZ    283711 non-null  float64\n",
      " 3   GyrX    283711 non-null  float64\n",
      " 4   GyrY    283711 non-null  float64\n",
      " 5   GyrZ    283711 non-null  float64\n",
      " 6   Fall    283711 non-null  int64  \n",
      "dtypes: float64(6), int64(1)\n",
      "memory usage: 15.2 MB\n"
     ]
    }
   ],
   "source": [
    "df.info()"
   ]
  },
  {
   "cell_type": "code",
   "execution_count": 9,
   "id": "b60b15ce",
   "metadata": {},
   "outputs": [],
   "source": [
    "df = pd.read_csv('merged_Fall_quarter.csv')\n",
    "\n",
    "df = df.iloc[1::2]\n",
    "\n",
    "df.to_csv('merged_Fall_by8.csv', index=False)"
   ]
  },
  {
   "cell_type": "code",
   "execution_count": 10,
   "id": "6a3351e2",
   "metadata": {},
   "outputs": [
    {
     "name": "stdout",
     "output_type": "stream",
     "text": [
      "<class 'pandas.core.frame.DataFrame'>\n",
      "RangeIndex: 215675 entries, 1 to 431349\n",
      "Data columns (total 7 columns):\n",
      " #   Column  Non-Null Count   Dtype  \n",
      "---  ------  --------------   -----  \n",
      " 0   AccX    215675 non-null  float64\n",
      " 1   AccY    215675 non-null  float64\n",
      " 2   AccZ    215675 non-null  float64\n",
      " 3   GyrX    215675 non-null  float64\n",
      " 4   GyrY    215675 non-null  float64\n",
      " 5   GyrZ    215675 non-null  float64\n",
      " 6   Fall    215675 non-null  int64  \n",
      "dtypes: float64(6), int64(1)\n",
      "memory usage: 11.5 MB\n"
     ]
    }
   ],
   "source": [
    "df.info()\n"
   ]
  },
  {
   "cell_type": "code",
   "execution_count": 11,
   "id": "0956e1a2",
   "metadata": {},
   "outputs": [
    {
     "name": "stdout",
     "output_type": "stream",
     "text": [
      "<class 'pandas.core.frame.DataFrame'>\n",
      "Int64Index: 499386 entries, 0 to 283710\n",
      "Data columns (total 7 columns):\n",
      " #   Column  Non-Null Count   Dtype  \n",
      "---  ------  --------------   -----  \n",
      " 0   AccX    499386 non-null  float64\n",
      " 1   AccY    499386 non-null  float64\n",
      " 2   AccZ    499386 non-null  float64\n",
      " 3   GyrX    499386 non-null  float64\n",
      " 4   GyrY    499386 non-null  float64\n",
      " 5   GyrZ    499386 non-null  float64\n",
      " 6   Fall    499386 non-null  int64  \n",
      "dtypes: float64(6), int64(1)\n",
      "memory usage: 30.5 MB\n"
     ]
    }
   ],
   "source": [
    "df1 = pd.read_csv('merged_Fall_by8.csv')\n",
    "df2 = pd.read_csv('merged_by8.csv')\n",
    "\n",
    "mf = pd.concat([df1,df2])\n",
    "\n",
    "mf.to_csv('Final_merge_neural.csv', index = False)\n",
    "\n",
    "mf.info()"
   ]
  },
  {
   "cell_type": "code",
   "execution_count": 12,
   "id": "91efbb08",
   "metadata": {},
   "outputs": [
    {
     "name": "stdout",
     "output_type": "stream",
     "text": [
      "<class 'pandas.core.frame.DataFrame'>\n",
      "Int64Index: 998774 entries, 0 to 567422\n",
      "Data columns (total 7 columns):\n",
      " #   Column  Non-Null Count   Dtype  \n",
      "---  ------  --------------   -----  \n",
      " 0   AccX    998774 non-null  float64\n",
      " 1   AccY    998774 non-null  float64\n",
      " 2   AccZ    998774 non-null  float64\n",
      " 3   GyrX    998774 non-null  float64\n",
      " 4   GyrY    998774 non-null  float64\n",
      " 5   GyrZ    998774 non-null  float64\n",
      " 6   Fall    998774 non-null  int64  \n",
      "dtypes: float64(6), int64(1)\n",
      "memory usage: 61.0 MB\n"
     ]
    }
   ],
   "source": [
    "df1 = pd.read_csv('merged_Fall_quarter.csv')\n",
    "df2 = pd.read_csv('merged_quarter.csv')\n",
    "\n",
    "mf = pd.concat([df1,df2])\n",
    "\n",
    "mf.to_csv('Final_quarter_merge_neural.csv', index = False)\n",
    "\n",
    "mf.info()"
   ]
  },
  {
   "cell_type": "code",
   "execution_count": 14,
   "id": "00cd404a",
   "metadata": {},
   "outputs": [],
   "source": [
    "df = pd.read_csv('Final_merge.csv')\n",
    "\n",
    "df = df.iloc[1::2]\n",
    "\n",
    "df.to_csv('Final_merged_half.csv', index=False)\n"
   ]
  },
  {
   "cell_type": "code",
   "execution_count": 15,
   "id": "12e52da0",
   "metadata": {},
   "outputs": [
    {
     "name": "stdout",
     "output_type": "stream",
     "text": [
      "<class 'pandas.core.frame.DataFrame'>\n",
      "RangeIndex: 998774 entries, 1 to 1997547\n",
      "Data columns (total 7 columns):\n",
      " #   Column  Non-Null Count   Dtype  \n",
      "---  ------  --------------   -----  \n",
      " 0   AccX    998774 non-null  float64\n",
      " 1   AccY    998774 non-null  float64\n",
      " 2   AccZ    998774 non-null  float64\n",
      " 3   GyrX    998774 non-null  float64\n",
      " 4   GyrY    998774 non-null  float64\n",
      " 5   GyrZ    998774 non-null  float64\n",
      " 6   Fall    998774 non-null  int64  \n",
      "dtypes: float64(6), int64(1)\n",
      "memory usage: 53.3 MB\n"
     ]
    }
   ],
   "source": [
    "df.info()"
   ]
  },
  {
   "cell_type": "code",
   "execution_count": 16,
   "id": "d44cd29c",
   "metadata": {},
   "outputs": [],
   "source": [
    "df = pd.read_csv('Final_merged_half.csv')\n",
    "\n",
    "df = df.iloc[1::4]\n",
    "\n",
    "df.to_csv('last_merged_SVM.csv', index=False)"
   ]
  },
  {
   "cell_type": "code",
   "execution_count": 17,
   "id": "804d7a16",
   "metadata": {},
   "outputs": [
    {
     "name": "stdout",
     "output_type": "stream",
     "text": [
      "<class 'pandas.core.frame.DataFrame'>\n",
      "RangeIndex: 249694 entries, 1 to 998773\n",
      "Data columns (total 7 columns):\n",
      " #   Column  Non-Null Count   Dtype  \n",
      "---  ------  --------------   -----  \n",
      " 0   AccX    249694 non-null  float64\n",
      " 1   AccY    249694 non-null  float64\n",
      " 2   AccZ    249694 non-null  float64\n",
      " 3   GyrX    249694 non-null  float64\n",
      " 4   GyrY    249694 non-null  float64\n",
      " 5   GyrZ    249694 non-null  float64\n",
      " 6   Fall    249694 non-null  int64  \n",
      "dtypes: float64(6), int64(1)\n",
      "memory usage: 13.3 MB\n"
     ]
    }
   ],
   "source": [
    "df.info()\n"
   ]
  },
  {
   "cell_type": "code",
   "execution_count": null,
   "id": "57d670d4",
   "metadata": {},
   "outputs": [],
   "source": [
    "import tensorflow as tf \n",
    "from tensorflow import keras\n"
   ]
  },
  {
   "cell_type": "code",
   "execution_count": null,
   "id": "8f9c12b1",
   "metadata": {},
   "outputs": [],
   "source": [
    "model = keras.Sequential()\n",
    "\n",
    "model.add(keras.layers.Input(shape = 6) ) # input layer\n",
    "\n",
    "# hidden layers\n",
    "model.add(keras.layers.Dense(units=64, activation='relu'))\n",
    "model.add(keras.layers.Dense(units=32, activation='relu'))\n",
    "model.add(keras.layers.Dense(units=16, activation='relu'))\n",
    "\n",
    "# output layer\n",
    "model.add(keras.layers.Dense(units=1, activation='sigmoid'))\n"
   ]
  },
  {
   "cell_type": "code",
   "execution_count": null,
   "id": "2c43b675",
   "metadata": {},
   "outputs": [],
   "source": [
    "model.compile( optimizer = 'adam', loses = 'binary_crossentropy', matrics = ['accuracy '] )"
   ]
  },
  {
   "cell_type": "code",
   "execution_count": null,
   "id": "47fcce1d",
   "metadata": {},
   "outputs": [],
   "source": [
    "model.fit( X_train, y_train, epoches = 100, batch_size = 25, validation_data(X_train, y_train) )"
   ]
  },
  {
   "cell_type": "code",
   "execution_count": null,
   "id": "4c8c5dcc",
   "metadata": {},
   "outputs": [],
   "source": [
    "loss, accuracy = model.evaluate(X_test, y_test)"
   ]
  },
  {
   "cell_type": "code",
   "execution_count": null,
   "id": "f4e9bb2e",
   "metadata": {},
   "outputs": [],
   "source": [
    "predictions = model.predict(X_new_data)"
   ]
  },
  {
   "cell_type": "code",
   "execution_count": null,
   "id": "5b7d9c2b",
   "metadata": {},
   "outputs": [],
   "source": [
    "'''\n",
    "import tensorflow as tf\n",
    "from tensorflow import keras\n",
    "\n",
    "# Load and preprocess your dataset\n",
    "\n",
    "# Define the model\n",
    "model = keras.Sequential([\n",
    "    keras.layers.Dense(64, activation='relu', input_dim=input_dim),\n",
    "    keras.layers.Dense(1, activation='sigmoid')  # Output layer for binary classification\n",
    "])\n",
    "\n",
    "# Compile the model\n",
    "model.compile(optimizer='adam', loss='binary_crossentropy', metrics=['accuracy'])\n",
    "\n",
    "# Train the model\n",
    "model.fit(X_train, y_train, epochs=20, batch_size=32, validation_data=(X_test, y_test))\n",
    "\n",
    "# Evaluate the model\n",
    "test_loss, test_accuracy = model.evaluate(X_test, y_test) \n",
    "print(f\"Test accuracy: {test_accuracy}\")\n",
    "\n",
    "'''\n"
   ]
  },
  {
   "cell_type": "code",
   "execution_count": null,
   "id": "0b09f944",
   "metadata": {},
   "outputs": [],
   "source": [
    "import pandas as pd\n",
    "\n",
    "merged = pd.read_csv('merged')"
   ]
  }
 ],
 "metadata": {
  "kernelspec": {
   "display_name": "Python 3 (ipykernel)",
   "language": "python",
   "name": "python3"
  },
  "language_info": {
   "codemirror_mode": {
    "name": "ipython",
    "version": 3
   },
   "file_extension": ".py",
   "mimetype": "text/x-python",
   "name": "python",
   "nbconvert_exporter": "python",
   "pygments_lexer": "ipython3",
   "version": "3.11.3"
  }
 },
 "nbformat": 4,
 "nbformat_minor": 5
}
