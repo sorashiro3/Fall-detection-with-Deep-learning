{
 "cells": [
  {
   "cell_type": "code",
   "execution_count": 1,
   "id": "2165a5db",
   "metadata": {},
   "outputs": [],
   "source": [
    "import os \n",
    "import pandas as pd \n",
    "import warnings\n",
    "\n",
    "warnings.filterwarnings(\"ignore\")"
   ]
  },
  {
   "cell_type": "code",
   "execution_count": 5,
   "id": "8ab075c3",
   "metadata": {},
   "outputs": [
    {
     "name": "stdout",
     "output_type": "stream",
     "text": [
      "Folder 'Fall' already exists at 'sensor_data\\SA06Fall'.\n",
      "Folder 'Fall' already exists at 'sensor_data\\SA07Fall'.\n",
      "Folder 'Fall' already exists at 'sensor_data\\SA08Fall'.\n",
      "Folder 'Fall' already exists at 'sensor_data\\SA09Fall'.\n",
      "Folder 'Fall' already exists at 'sensor_data\\SA10Fall'.\n",
      "Folder 'Fall' already exists at 'sensor_data\\SA11Fall'.\n",
      "Folder 'Fall' already exists at 'sensor_data\\SA12Fall'.\n",
      "Folder 'Fall' already exists at 'sensor_data\\SA13Fall'.\n",
      "Folder 'Fall' already exists at 'sensor_data\\SA14Fall'.\n",
      "Folder 'Fall' already exists at 'sensor_data\\SA15Fall'.\n",
      "Folder 'Fall' already exists at 'sensor_data\\SA16Fall'.\n",
      "Folder 'Fall' already exists at 'sensor_data\\SA17Fall'.\n",
      "Folder 'Fall' already exists at 'sensor_data\\SA18Fall'.\n",
      "Folder 'Fall' already exists at 'sensor_data\\SA19Fall'.\n",
      "Folder 'Fall' already exists at 'sensor_data\\SA20Fall'.\n",
      "Folder 'Fall' already exists at 'sensor_data\\SA21Fall'.\n",
      "Folder 'Fall' already exists at 'sensor_data\\SA22Fall'.\n",
      "Folder 'Fall' already exists at 'sensor_data\\SA23Fall'.\n",
      "Folder 'Fall' already exists at 'sensor_data\\SA24Fall'.\n",
      "Folder 'Fall' already exists at 'sensor_data\\SA25Fall'.\n",
      "Folder 'Fall' already exists at 'sensor_data\\SA26Fall'.\n",
      "Folder 'Fall' already exists at 'sensor_data\\SA27Fall'.\n",
      "Folder 'Fall' already exists at 'sensor_data\\SA28Fall'.\n",
      "Folder 'Fall' already exists at 'sensor_data\\SA29Fall'.\n",
      "Folder 'Fall' already exists at 'sensor_data\\SA30Fall'.\n",
      "Folder 'Fall' already exists at 'sensor_data\\SA31Fall'.\n",
      "Folder 'Fall' already exists at 'sensor_data\\SA32Fall'.\n",
      "Folder 'Fall' already exists at 'sensor_data\\SA33Fall'.\n",
      "Folder 'Fall' already exists at 'sensor_data\\SA34Fall'.\n",
      "Folder 'Fall' already exists at 'sensor_data\\SA35Fall'.\n",
      "Folder 'Fall' already exists at 'sensor_data\\SA36Fall'.\n",
      "Folder 'Fall' already exists at 'sensor_data\\SA37Fall'.\n",
      "Folder 'Fall' already exists at 'sensor_data\\SA38Fall'.\n"
     ]
    }
   ],
   "source": [
    "folder_name = \"Fall\"  \n",
    "\n",
    "for i in range(6,10) :\n",
    "    new_folder_path = f'sensor_data\\SA0{i}' + folder_name\n",
    "\n",
    "    if not os.path.exists(new_folder_path):\n",
    "        os.makedirs(new_folder_path)\n",
    "        print(f\"Folder '{folder_name}' created successfully at '{new_folder_path}'.\")\n",
    "    \n",
    "    else:\n",
    "        print(f\"Folder '{folder_name}' already exists at '{new_folder_path}'.\")\n",
    "\n",
    "for i in range(10,39) :\n",
    "    new_folder_path = f'sensor_data\\SA{i}' + folder_name\n",
    "\n",
    "    if not os.path.exists(new_folder_path):\n",
    "        os.makedirs(new_folder_path)\n",
    "        print(f\"Folder '{folder_name}' created successfully at '{new_folder_path}'.\")\n",
    "    \n",
    "    else:\n",
    "        print(f\"Folder '{folder_name}' already exists at '{new_folder_path}'.\")"
   ]
  },
  {
   "cell_type": "code",
   "execution_count": 6,
   "id": "9061f17b",
   "metadata": {},
   "outputs": [],
   "source": [
    "import glob\n",
    "\n",
    "df = []\n",
    "col = ['TimeStamp(s)', 'FrameCounter', 'EulerX', 'EulerY', 'EulerZ']\n",
    "for i in range(6,10):\n",
    "    \n",
    "    file_paths = glob.glob(f'sensor_data\\SA0{i}\\*.csv')\n",
    "   \n",
    "    for file in file_paths :\n",
    "        tmp = pd.read_csv(file)\n",
    "        \n",
    "        tmp = tmp.drop(columns = col)\n",
    "        \n",
    "        df.append(tmp)\n",
    "\n",
    "for i in range(10,39):\n",
    "    \n",
    "    file_paths = glob.glob(f'sensor_data\\SA{i}\\*.csv')\n",
    "   \n",
    "    for file in file_paths :\n",
    "        tmp = pd.read_csv(file)\n",
    "        \n",
    "        tmp = tmp.drop(columns = col)\n",
    "        \n",
    "        df.append(tmp)\n",
    "        \n",
    "merged = pd.concat(df, ignore_index = True)\n"
   ]
  },
  {
   "cell_type": "code",
   "execution_count": 7,
   "id": "438fa834",
   "metadata": {},
   "outputs": [],
   "source": [
    "merged.to_csv('merged.csv', index=False)"
   ]
  },
  {
   "cell_type": "code",
   "execution_count": 8,
   "id": "e2e8fd47",
   "metadata": {},
   "outputs": [
    {
     "name": "stdout",
     "output_type": "stream",
     "text": [
      "<class 'pandas.core.frame.DataFrame'>\n",
      "RangeIndex: 1134846 entries, 0 to 1134845\n",
      "Data columns (total 6 columns):\n",
      " #   Column  Non-Null Count    Dtype  \n",
      "---  ------  --------------    -----  \n",
      " 0   AccX    1134846 non-null  float64\n",
      " 1   AccY    1134846 non-null  float64\n",
      " 2   AccZ    1134846 non-null  float64\n",
      " 3   GyrX    1134846 non-null  float64\n",
      " 4   GyrY    1134846 non-null  float64\n",
      " 5   GyrZ    1134846 non-null  float64\n",
      "dtypes: float64(6)\n",
      "memory usage: 51.9 MB\n"
     ]
    }
   ],
   "source": [
    "m = pd.read_csv('merged.csv')\n",
    "\n",
    "m = m.iloc[:len(m) // 2]\n",
    "\n",
    "m.to_csv('merged_half.csv', index=False)\n",
    "\n",
    "m.info()"
   ]
  },
  {
   "cell_type": "code",
   "execution_count": 9,
   "id": "bef9a8ee",
   "metadata": {},
   "outputs": [],
   "source": [
    "m['Fall'] = 0\n",
    "m.to_csv('merged_half.csv', index=False)"
   ]
  },
  {
   "cell_type": "code",
   "execution_count": 10,
   "id": "c0a41b6b",
   "metadata": {},
   "outputs": [
    {
     "name": "stdout",
     "output_type": "stream",
     "text": [
      "<class 'pandas.core.frame.DataFrame'>\n",
      "RangeIndex: 1134846 entries, 0 to 1134845\n",
      "Data columns (total 7 columns):\n",
      " #   Column  Non-Null Count    Dtype  \n",
      "---  ------  --------------    -----  \n",
      " 0   AccX    1134846 non-null  float64\n",
      " 1   AccY    1134846 non-null  float64\n",
      " 2   AccZ    1134846 non-null  float64\n",
      " 3   GyrX    1134846 non-null  float64\n",
      " 4   GyrY    1134846 non-null  float64\n",
      " 5   GyrZ    1134846 non-null  float64\n",
      " 6   Fall    1134846 non-null  int64  \n",
      "dtypes: float64(6), int64(1)\n",
      "memory usage: 60.6 MB\n"
     ]
    }
   ],
   "source": [
    "m.info()\n"
   ]
  },
  {
   "cell_type": "code",
   "execution_count": 11,
   "id": "b15a6700",
   "metadata": {},
   "outputs": [],
   "source": [
    "df = []\n",
    "col = ['TimeStamp(s)', 'FrameCounter', 'EulerX', 'EulerY', 'EulerZ']\n",
    "for i in range(6,10):\n",
    "    \n",
    "    file_paths = glob.glob(f'sensor_data\\SA0{i}Fall\\*.csv')\n",
    "   \n",
    "    for file in file_paths :\n",
    "        tmp = pd.read_csv(file)\n",
    "        \n",
    "        tmp = tmp.drop(columns = col)\n",
    "        \n",
    "        df.append(tmp)\n",
    "\n",
    "for i in range(10,39):\n",
    "    \n",
    "    file_paths = glob.glob(f'sensor_data\\SA{i}Fall\\*.csv')\n",
    "   \n",
    "    for file in file_paths :\n",
    "        tmp = pd.read_csv(file)\n",
    "        \n",
    "        tmp = tmp.drop(columns = col)\n",
    "        \n",
    "        df.append(tmp)\n",
    "        \n",
    "merged2 = pd.concat(df, ignore_index = True)\n"
   ]
  },
  {
   "cell_type": "code",
   "execution_count": 12,
   "id": "243059b7",
   "metadata": {},
   "outputs": [],
   "source": [
    "merged2.to_csv('merged_Fall.csv', index=False)"
   ]
  },
  {
   "cell_type": "code",
   "execution_count": 13,
   "id": "ec7586c9",
   "metadata": {},
   "outputs": [
    {
     "name": "stdout",
     "output_type": "stream",
     "text": [
      "<class 'pandas.core.frame.DataFrame'>\n",
      "RangeIndex: 862703 entries, 0 to 862702\n",
      "Data columns (total 7 columns):\n",
      " #   Column  Non-Null Count   Dtype  \n",
      "---  ------  --------------   -----  \n",
      " 0   AccX    862703 non-null  float64\n",
      " 1   AccY    862703 non-null  float64\n",
      " 2   AccZ    862703 non-null  float64\n",
      " 3   GyrX    862703 non-null  float64\n",
      " 4   GyrY    862703 non-null  float64\n",
      " 5   GyrZ    862703 non-null  float64\n",
      " 6   Fall    862703 non-null  int64  \n",
      "dtypes: float64(6), int64(1)\n",
      "memory usage: 46.1 MB\n"
     ]
    }
   ],
   "source": [
    "m = pd.read_csv('merged_Fall.csv')\n",
    "\n",
    "m = m.iloc[:len(m) // 2]\n",
    "\n",
    "m['Fall'] = 1\n",
    "\n",
    "m.to_csv('merged_Fall_half.csv', index=False)\n",
    "\n",
    "m.info()"
   ]
  },
  {
   "cell_type": "code",
   "execution_count": 14,
   "id": "9fbd235a",
   "metadata": {},
   "outputs": [
    {
     "name": "stdout",
     "output_type": "stream",
     "text": [
      "<class 'pandas.core.frame.DataFrame'>\n",
      "Int64Index: 1997549 entries, 0 to 862702\n",
      "Data columns (total 7 columns):\n",
      " #   Column  Dtype  \n",
      "---  ------  -----  \n",
      " 0   AccX    float64\n",
      " 1   AccY    float64\n",
      " 2   AccZ    float64\n",
      " 3   GyrX    float64\n",
      " 4   GyrY    float64\n",
      " 5   GyrZ    float64\n",
      " 6   Fall    int64  \n",
      "dtypes: float64(6), int64(1)\n",
      "memory usage: 121.9 MB\n"
     ]
    }
   ],
   "source": [
    "df1 = pd.read_csv('merged_half.csv')\n",
    "df2 = pd.read_csv('merged_Fall_half.csv')\n",
    "\n",
    "mf = pd.concat([df1,df2])\n",
    "\n",
    "mf.to_csv('Final_merge.csv', index = False)\n",
    "\n",
    "mf.info()"
   ]
  },
  {
   "cell_type": "code",
   "execution_count": 2,
   "id": "ccbfe0e7",
   "metadata": {},
   "outputs": [],
   "source": [
    "import numpy as np\n",
    "\n",
    "from sklearn.model_selection import train_test_split\n",
    "from sklearn.svm import SVC \n",
    "from sklearn.metrics import classification_report, accuracy_score\n",
    "from sklearn.preprocessing import StandardScaler\n"
   ]
  },
  {
   "cell_type": "code",
   "execution_count": 3,
   "id": "3c5b06e2",
   "metadata": {},
   "outputs": [],
   "source": [
    "df = pd.read_csv('Final_merge.csv')\n",
    "\n",
    "df.info()"
   ]
  },
  {
   "cell_type": "code",
   "execution_count": 4,
   "id": "559953c6",
   "metadata": {},
   "outputs": [],
   "source": [
    "df = pd.read_csv('Final_merge.csv')\n",
    "\n",
    "\n",
    "X = df.drop('Fall', axis=1)\n",
    "y = df['Fall']\n"
   ]
  },
  {
   "cell_type": "code",
   "execution_count": 5,
   "id": "512bf08b",
   "metadata": {},
   "outputs": [],
   "source": [
    "X_train, X_test, y_train, y_test = train_test_split(X, y, test_size=0.2, random_state=42)\n"
   ]
  },
  {
   "cell_type": "code",
   "execution_count": null,
   "id": "e5ad125e",
   "metadata": {},
   "outputs": [],
   "source": [
    "'''\n",
    "svm_model = SVC(kernel='linear', C=1.1)\n",
    "svm_model.fit(X_train, y_train)\n",
    "\n",
    "'''\n"
   ]
  },
  {
   "cell_type": "code",
   "execution_count": null,
   "id": "12e4e518",
   "metadata": {},
   "outputs": [],
   "source": [
    "y_pred = svm_model.predict(X_test)\n",
    "\n",
    "accuracy = accuracy_score(y_test, y_pred)\n",
    "\n",
    "report = classification_report(y_test, y_pred)\n",
    "\n",
    "print(f'accuracy : {accuracy}\\n')\n",
    "\n",
    "print(report)"
   ]
  }
 ],
 "metadata": {
  "kernelspec": {
   "display_name": "Python 3 (ipykernel)",
   "language": "python",
   "name": "python3"
  },
  "language_info": {
   "codemirror_mode": {
    "name": "ipython",
    "version": 3
   },
   "file_extension": ".py",
   "mimetype": "text/x-python",
   "name": "python",
   "nbconvert_exporter": "python",
   "pygments_lexer": "ipython3",
   "version": "3.11.3"
  }
 },
 "nbformat": 4,
 "nbformat_minor": 5
}
